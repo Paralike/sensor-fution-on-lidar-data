{
  "nbformat": 4,
  "nbformat_minor": 0,
  "metadata": {
    "colab": {
      "provenance": []
    },
    "kernelspec": {
      "name": "python3",
      "display_name": "Python 3"
    }
  },
  "cells": [
    {
      "cell_type": "code",
      "metadata": {
        "id": "NYCWi_HiXxVU"
      },
      "source": [
        "\"\"\"\n",
        "story:\n",
        "let's assume we have a LIDAR\n",
        "https://www.nuscenes.org/data-annotation\n",
        "https://level5.lyft.com/dataset/#data-format\n",
        "\n",
        "WE have a lidar and a detector which should detect pedestrian/traffic signs/and free space\n",
        "the detector was built by someone else and we do not know anything about its quality, but we want to (and have to) use this in practice.\n",
        "\n",
        "We want to make the best out of it using repeated measurements.\n",
        "\n",
        "It is imporant that we asusme that these measurements are completely independent form each other...which is not ture, but we will deal with this in practice later.\n",
        "\n",
        "\"\"\"\n",
        "\n",
        "import numpy as np\n",
        "import gdown"
      ],
      "execution_count": null,
      "outputs": []
    },
    {
      "cell_type": "markdown",
      "metadata": {
        "id": "Ojhx5bXBNHvb"
      },
      "source": [
        "## LIDAR Model"
      ]
    },
    {
      "cell_type": "code",
      "metadata": {
        "id": "03wE9nLtt9rD",
        "colab": {
          "base_uri": "https://localhost:8080/"
        },
        "outputId": "6a6672a0-e85f-4dc6-bdff-4fce34255d59"
      },
      "source": [
        "\"\"\"\n",
        "class Model():\n",
        "  #this is a  simple probabilistic model representing our sensor\n",
        "  def __init__ (self):\n",
        "    #constructor\n",
        "\n",
        "  def GenerateState(self):\n",
        "    #this function generates a random hidden state\n",
        "    #has no return value\n",
        "\n",
        "  def GetState(self):\n",
        "    #this is a function we can not use inn practice, it reveals the hidden state. We will use this to check our result.\n",
        "    #returns a number, the index of the hidden state (0,1,2)\n",
        "\n",
        "  def Measure(self):\n",
        "    #this funciton makes a measuerement with a previously set hidden state\n",
        "    #returns the index of the measured state (0,1,2)\n",
        "\n",
        "  def MeasureKnownState(self,X):\n",
        "    #this function makes a measurement with a known hidden state\n",
        "    #the hidden state is the imnput aprametre of the function (0,1,2)\n",
        "    #returns the index of the measured state (0,1,2)\n",
        "\"\"\"\n",
        "\n",
        "url = 'https://drive.google.com/uc?id=1mi9WvjTDscb3VZe1Hdg-Iv02DwXYJNR0'\n",
        "output = 'LIDARModel.py'\n",
        "gdown.download(url, output, quiet=False)\n",
        "import LIDARModel as Model"
      ],
      "execution_count": null,
      "outputs": [
        {
          "output_type": "stream",
          "name": "stderr",
          "text": [
            "Downloading...\n",
            "From: https://drive.google.com/uc?id=1mi9WvjTDscb3VZe1Hdg-Iv02DwXYJNR0\n",
            "To: /content/LIDARModel.py\n",
            "100%|██████████| 1.09k/1.09k [00:00<00:00, 990kB/s]\n"
          ]
        }
      ]
    },
    {
      "cell_type": "code",
      "metadata": {
        "id": "cChchMmnaDBU",
        "colab": {
          "base_uri": "https://localhost:8080/"
        },
        "outputId": "f2c50284-0d9b-4209-e893-0259da4111f1"
      },
      "source": [
        "M = Model.Model() #initalize this model\n",
        "M.GenerateState() #generate a random hidden state\n",
        "\n",
        "M.GetState()      #we can check the hidden state...!this is not a measurement"
      ],
      "execution_count": null,
      "outputs": [
        {
          "output_type": "execute_result",
          "data": {
            "text/plain": [
              "0"
            ]
          },
          "metadata": {},
          "execution_count": 41
        }
      ]
    },
    {
      "cell_type": "code",
      "metadata": {
        "id": "763V7mbbe3-8",
        "colab": {
          "base_uri": "https://localhost:8080/"
        },
        "outputId": "3261c861-0fad-4991-9a19-c64a66685a87"
      },
      "source": [
        "#let's make 10 measurements with the known hidden states\n",
        "for i in range(10):\n",
        "  print(M.Measure())"
      ],
      "execution_count": null,
      "outputs": [
        {
          "output_type": "stream",
          "name": "stdout",
          "text": [
            "0\n",
            "2\n",
            "2\n",
            "2\n",
            "1\n",
            "2\n",
            "0\n",
            "2\n",
            "0\n",
            "0\n"
          ]
        }
      ]
    },
    {
      "cell_type": "markdown",
      "source": [
        "#Relative frequency"
      ],
      "metadata": {
        "id": "trehkjY8ekUH"
      }
    },
    {
      "cell_type": "code",
      "source": [
        "array = []\n",
        "array1 = []\n",
        "array2 = []\n",
        "for i in range(1000):\n",
        "  array.append(M.MeasureKnownState(0))\n",
        "  array1.append(M.MeasureKnownState(1))\n",
        "  array2.append(M.MeasureKnownState(2))\n",
        "\n",
        "V = []\n",
        "V.append(np.count_nonzero(np.array(array) == 0) + np.count_nonzero(np.array(array1) ==0) + np.count_nonzero(np.array(array2) == 0) )\n",
        "V.append(np.count_nonzero(np.array(array) == 1) + np.count_nonzero(np.array(array1) == 1) + np.count_nonzero(np.array(array2) == 1) )\n",
        "V.append(np.count_nonzero(np.array(array) == 2) + np.count_nonzero(np.array(array1) == 2) + np.count_nonzero(np.array(array2) == 2) )\n",
        "V=np.array(V)\n",
        "print(V/3000)"
      ],
      "metadata": {
        "colab": {
          "base_uri": "https://localhost:8080/"
        },
        "id": "bvhxMPg-esa3",
        "outputId": "134e5297-706b-4e21-974d-598a5ee07bf4"
      },
      "execution_count": null,
      "outputs": [
        {
          "output_type": "stream",
          "name": "stdout",
          "text": [
            "[0.296      0.30066667 0.40333333]\n"
          ]
        }
      ]
    },
    {
      "cell_type": "markdown",
      "source": [
        "Relative frequency vector"
      ],
      "metadata": {
        "id": "xJyG60ZKll4Y"
      }
    },
    {
      "cell_type": "code",
      "source": [
        "M.GetState()"
      ],
      "metadata": {
        "colab": {
          "base_uri": "https://localhost:8080/"
        },
        "id": "69Tfi6BhdcD0",
        "outputId": "9c2779c0-0a0a-4bab-8b39-c7143afcc7ba"
      },
      "execution_count": null,
      "outputs": [
        {
          "output_type": "execute_result",
          "data": {
            "text/plain": [
              "0"
            ]
          },
          "metadata": {},
          "execution_count": 44
        }
      ]
    },
    {
      "cell_type": "code",
      "source": [
        "repeat = 10000\n",
        "states = np.zeros(3)\n",
        "\n",
        "for i in range(repeat):\n",
        "  states[M.Measure()]+=1\n",
        "\n",
        "print(states)\n",
        "\n",
        "states/=repeat\n",
        "print(states)"
      ],
      "metadata": {
        "colab": {
          "base_uri": "https://localhost:8080/"
        },
        "id": "bEommLZvkGtP",
        "outputId": "9aeaae3b-debe-4afe-e9be-59576a51b9ab"
      },
      "execution_count": null,
      "outputs": [
        {
          "output_type": "stream",
          "name": "stdout",
          "text": [
            "[5022. 1999. 2979.]\n",
            "[0.5022 0.1999 0.2979]\n"
          ]
        }
      ]
    },
    {
      "cell_type": "code",
      "source": [
        "repeat = 5000\n",
        "ReaFreqMatrix = np.zeros((3,3))\n",
        "\n",
        "for state in range(3):\n",
        "  for I in range(repeat):\n",
        "    ReaFreqMatrix[state,M.MeasureKnownState(state)]+=1\n",
        "\n",
        "print(ReaFreqMatrix) # R"
      ],
      "metadata": {
        "colab": {
          "base_uri": "https://localhost:8080/"
        },
        "id": "11BwdVVlmj0v",
        "outputId": "6a65ce51-c92e-4d07-ed54-839e692c1b88"
      },
      "execution_count": null,
      "outputs": [
        {
          "output_type": "stream",
          "name": "stdout",
          "text": [
            "[[2488. 1017. 1495.]\n",
            " [1480. 3015.  505.]\n",
            " [ 496.  481. 4023.]]\n"
          ]
        }
      ]
    },
    {
      "cell_type": "code",
      "source": [
        "ObservationMatrix = (ReaFreqMatrix / np.sum(ReaFreqMatrix,0)).T\n",
        "print(ObservationMatrix) # F"
      ],
      "metadata": {
        "colab": {
          "base_uri": "https://localhost:8080/"
        },
        "id": "1J3IV0B_n8vm",
        "outputId": "f82cf394-99cf-4d08-8d05-24f15dae8de7"
      },
      "execution_count": null,
      "outputs": [
        {
          "output_type": "stream",
          "name": "stdout",
          "text": [
            "[[0.55734767 0.33154122 0.11111111]\n",
            " [0.22534899 0.66807002 0.10658099]\n",
            " [0.24821518 0.08384526 0.66793957]]\n"
          ]
        }
      ]
    },
    {
      "cell_type": "code",
      "source": [
        "ObservationProbability = np.sum(ReaFreqMatrix,0)/np.sum(ReaFreqMatrix)\n",
        "ObservationProbability #P(z)"
      ],
      "metadata": {
        "colab": {
          "base_uri": "https://localhost:8080/"
        },
        "id": "972m00uooMNP",
        "outputId": "00b66b30-363d-438d-efbf-2a504d372be6"
      },
      "execution_count": null,
      "outputs": [
        {
          "output_type": "execute_result",
          "data": {
            "text/plain": [
              "array([0.2976    , 0.30086667, 0.40153333])"
            ]
          },
          "metadata": {},
          "execution_count": 48
        }
      ]
    },
    {
      "cell_type": "code",
      "source": [
        "DecisionFunction = np.sum(ReaFreqMatrix,0)/np.sum(ReaFreqMatrix,1)\n",
        "DecisionFunction #P(x|z)"
      ],
      "metadata": {
        "colab": {
          "base_uri": "https://localhost:8080/"
        },
        "id": "7PRLBB-LpIa_",
        "outputId": "91124512-7191-4242-8e99-57f3a13bc86a"
      },
      "execution_count": null,
      "outputs": [
        {
          "output_type": "execute_result",
          "data": {
            "text/plain": [
              "array([0.8928, 0.9026, 1.2046])"
            ]
          },
          "metadata": {},
          "execution_count": 49
        }
      ]
    },
    {
      "cell_type": "code",
      "source": [
        "M.GenerateState()\n",
        "M.GetState()"
      ],
      "metadata": {
        "colab": {
          "base_uri": "https://localhost:8080/"
        },
        "id": "-uRAUVMQqlwH",
        "outputId": "8839dde6-191c-4dfb-91ac-4462714602ee"
      },
      "execution_count": null,
      "outputs": [
        {
          "output_type": "execute_result",
          "data": {
            "text/plain": [
              "2"
            ]
          },
          "metadata": {},
          "execution_count": 50
        }
      ]
    },
    {
      "cell_type": "code",
      "source": [
        "repeat = 50\n",
        "\n",
        "# P(x|z) = P(z|x)*P(x)/P(z)\n",
        "\n",
        "prior = np.array([1/3,1/3,1/3]).T\n",
        "#DecisionFunction = DecisionFunction.T\n"
      ],
      "metadata": {
        "id": "JEgPq2DsqpbW"
      },
      "execution_count": null,
      "outputs": []
    },
    {
      "cell_type": "code",
      "source": [
        "for i in range(repeat):\n",
        "  Meas = M.Measure()\n",
        "  prior = (ObservationMatrix[Meas]*prior)/ObservationProbability\n",
        "  prior = prior/prior.sum()\n",
        "\n",
        "print(prior)"
      ],
      "metadata": {
        "colab": {
          "base_uri": "https://localhost:8080/"
        },
        "id": "vcv1OlIHqz4O",
        "outputId": "a7ccaa70-357c-424b-9e71-e965bc31c16b"
      },
      "execution_count": null,
      "outputs": [
        {
          "output_type": "stream",
          "name": "stdout",
          "text": [
            "[5.02156579e-04 4.69489890e-19 9.99497843e-01]\n"
          ]
        }
      ]
    },
    {
      "cell_type": "code",
      "source": [
        "import matplotlib.pyplot as plt"
      ],
      "metadata": {
        "id": "uSI6WADmxccY"
      },
      "execution_count": null,
      "outputs": []
    },
    {
      "cell_type": "code",
      "source": [
        "Entr = np.zeros(repeat)\n",
        "for i in range(repeat):\n",
        "  Meas = M.Measure()\n",
        "  prior = (ObservationMatrix[Meas]*prior)/ObservationProbability\n",
        "  prior = prior/prior.sum()\n",
        "  Entr[i] = -np.sum(prior*np.log(prior)) # -E(log(x))\n",
        "\n",
        "plt.plot(Entr)\n",
        "plt.show()"
      ],
      "metadata": {
        "id": "G9K_pf4IreJe",
        "colab": {
          "base_uri": "https://localhost:8080/",
          "height": 265
        },
        "outputId": "74c569a8-6741-438c-f8ef-463958700825"
      },
      "execution_count": null,
      "outputs": [
        {
          "output_type": "display_data",
          "data": {
            "text/plain": [
              "<Figure size 432x288 with 1 Axes>"
            ],
            "image/png": "[encoded data removed]"
          },
          "metadata": {
            "needs_background": "light"
          }
        }
      ]
    },
    {
      "cell_type": "code",
      "source": [],
      "metadata": {
        "id": "tpMSQ0qqxjCU"
      },
      "execution_count": null,
      "outputs": []
    }
  ]
}
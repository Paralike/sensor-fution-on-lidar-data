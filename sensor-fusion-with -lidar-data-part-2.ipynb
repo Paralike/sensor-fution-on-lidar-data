{
  "nbformat": 4,
  "nbformat_minor": 0,
  "metadata": {
    "colab": {
      "provenance": []
    },
    "kernelspec": {
      "name": "python3",
      "display_name": "Python 3"
    }
  },
  "cells": [
    {
      "cell_type": "code",
      "metadata": {
        "id": "_dDQAK4bJ9F9"
      },
      "source": [
        "\"\"\"\n",
        "story:\n",
        "let's assume we have a LIDAR\n",
        "https://www.nuscenes.org/data-annotation\n",
        "https://level5.lyft.com/dataset/#data-format\n",
        "\n",
        "WE have a lidar and a detector which should detect pedestrian/traffic signs/and free space\n",
        "the detector was built by someone else and we do not know anything about its quality, but we want to (and have to) use this in practice.\n",
        "\n",
        "We want to make the best out of it using repeated measurements.\n",
        "\n",
        "It is imporant that we asusme that these measurements are completely independent form each other...which is not ture, but we will deal with this in practice later.\n",
        "\n",
        "\"\"\"\n",
        "\n",
        "import numpy as np"
      ],
      "execution_count": null,
      "outputs": []
    },
    {
      "cell_type": "code",
      "metadata": {
        "id": "aSHse8X_J_kc",
        "colab": {
          "base_uri": "https://localhost:8080/"
        },
        "outputId": "612f1d76-23b5-4d5d-edb5-4cff61599e04"
      },
      "source": [
        "\"\"\"\n",
        "class Model():\n",
        "  #this is a  simple probabilistic model representing our sensor\n",
        "  def __init__ (self):\n",
        "    #constructor\n",
        "\n",
        "  def GenerateState(self):\n",
        "    #this function generates a random hidden state\n",
        "    #has no return value\n",
        "\n",
        "  def GetState(self):\n",
        "    #this is a function we can not use inn practice, it reveals the hidden state. We will use this to check our result.\n",
        "    #returns a number, the index of the hidden state (0,1,2)\n",
        "\n",
        "  def Measure(self):\n",
        "    #this funciton makes a measuerement with a previously set hidden state\n",
        "    #returns the index of the measured state (0,1,2)\n",
        "\n",
        "  def MeasureKnownState(self,X):\n",
        "    #this function makes a measurement with a known hidden state\n",
        "    #the hidden state is the imnput aprametre of the function (0,1,2)\n",
        "    #returns the index of the measured state (0,1,2)\n",
        "\"\"\"\n",
        "\n",
        "! wget https://users.itk.ppke.hu/~horan/LIDARModel.py\n",
        "import LIDARModel as Model1\n",
        "\n",
        "! wget https://users.itk.ppke.hu/~horan/LIDARModel2.py\n",
        "import LIDARModel2 as Model2"
      ],
      "execution_count": null,
      "outputs": [
        {
          "output_type": "stream",
          "name": "stdout",
          "text": [
            "--2022-11-02 06:58:59--  https://users.itk.ppke.hu/~horan/LIDARModel.py\n",
            "Resolving users.itk.ppke.hu (users.itk.ppke.hu)... 193.225.109.33\n",
            "Connecting to users.itk.ppke.hu (users.itk.ppke.hu)|193.225.109.33|:443... connected.\n",
            "HTTP request sent, awaiting response... 200 OK\n",
            "Length: 1095 (1.1K) [text/x-python]\n",
            "Saving to: ‘LIDARModel.py’\n",
            "\n",
            "LIDARModel.py       100%[===================>]   1.07K  --.-KB/s    in 0s      \n",
            "\n",
            "2022-11-02 06:59:01 (94.9 MB/s) - ‘LIDARModel.py’ saved [1095/1095]\n",
            "\n",
            "--2022-11-02 06:59:01--  https://users.itk.ppke.hu/~horan/LIDARModel2.py\n",
            "Resolving users.itk.ppke.hu (users.itk.ppke.hu)... 193.225.109.33\n",
            "Connecting to users.itk.ppke.hu (users.itk.ppke.hu)|193.225.109.33|:443... connected.\n",
            "HTTP request sent, awaiting response... 200 OK\n",
            "Length: 1101 (1.1K) [text/x-python]\n",
            "Saving to: ‘LIDARModel2.py’\n",
            "\n",
            "LIDARModel2.py      100%[===================>]   1.08K  --.-KB/s    in 0s      \n",
            "\n",
            "2022-11-02 06:59:02 (124 MB/s) - ‘LIDARModel2.py’ saved [1101/1101]\n",
            "\n"
          ]
        }
      ]
    },
    {
      "cell_type": "code",
      "metadata": {
        "id": "CTiVXF9dKJvE",
        "colab": {
          "base_uri": "https://localhost:8080/"
        },
        "outputId": "0054c6c7-f800-4da4-be52-9ad1e2043fb9"
      },
      "source": [
        "M1 = Model1.Model() #initalize this model\n",
        "\n",
        "repeat = 5000\n",
        "RelFreqMatrix = np.zeros((3,3))\n",
        "for state in range(3):\n",
        "    for i in range(repeat):\n",
        "        RelFreqMatrix[state,M1.MeasureKnownState(state)] += 1\n",
        "\n",
        "ObservationMatrix1 = RelFreqMatrix/repeat\n",
        "print(RelFreqMatrix)\n",
        "DecisionMatrix1 = (RelFreqMatrix/np.sum(RelFreqMatrix,0)).T\n",
        "\n"
      ],
      "execution_count": null,
      "outputs": [
        {
          "output_type": "stream",
          "name": "stdout",
          "text": [
            "[[2537. 1051. 1412.]\n",
            " [1574. 2953.  473.]\n",
            " [ 519.  509. 3972.]]\n"
          ]
        }
      ]
    },
    {
      "cell_type": "code",
      "metadata": {
        "id": "vAzute96KmY8",
        "colab": {
          "base_uri": "https://localhost:8080/"
        },
        "outputId": "18ac6cef-7c25-43bc-d59c-c82409f8b22c"
      },
      "source": [
        "M2 = Model2.Model() #initalize this model\n",
        "\n",
        "repeat = 5000\n",
        "RelFreqMatrix = np.zeros((3,3))\n",
        "for state in range(3):\n",
        "    for i in range(repeat):\n",
        "        RelFreqMatrix[state,M2.MeasureKnownState(state)] += 1\n",
        "\n",
        "ObservationMatrix2 = RelFreqMatrix/repeat\n",
        "print(RelFreqMatrix)\n",
        "DecisionMatrix2= (RelFreqMatrix/np.sum(RelFreqMatrix,0)).T\n"
      ],
      "execution_count": null,
      "outputs": [
        {
          "output_type": "stream",
          "name": "stdout",
          "text": [
            "[[   0. 4519.  481.]\n",
            " [1531. 2956.  513.]\n",
            " [ 509.  485. 4006.]]\n"
          ]
        }
      ]
    },
    {
      "cell_type": "code",
      "source": [
        "def Entropy(p):\n",
        "  H=0\n",
        "  for a in p:\n",
        "    if a != 0:\n",
        "      H+= -a*np.log2(a)\n",
        "  return H\n",
        "\n",
        "PX=np.array([1/3,1/3,1/3]).T\n",
        "print(PX)"
      ],
      "metadata": {
        "colab": {
          "base_uri": "https://localhost:8080/"
        },
        "id": "RXsrIwRZnYfL",
        "outputId": "9e2d8ed5-9d44-48d2-d957-e09dfef41506"
      },
      "execution_count": null,
      "outputs": [
        {
          "output_type": "stream",
          "name": "stdout",
          "text": [
            "[0.33333333 0.33333333 0.33333333]\n"
          ]
        }
      ]
    },
    {
      "cell_type": "code",
      "source": [
        "PX.shape = (3,1)"
      ],
      "metadata": {
        "id": "dq_9QIGYCUOf"
      },
      "execution_count": null,
      "outputs": []
    },
    {
      "cell_type": "code",
      "source": [
        "PX.shape"
      ],
      "metadata": {
        "colab": {
          "base_uri": "https://localhost:8080/"
        },
        "id": "buCAX21UCfMX",
        "outputId": "bf948d47-2a37-47fe-fcf9-ed46e84d5ed2"
      },
      "execution_count": null,
      "outputs": [
        {
          "output_type": "execute_result",
          "data": {
            "text/plain": [
              "(3, 1)"
            ]
          },
          "metadata": {},
          "execution_count": 7
        }
      ]
    },
    {
      "cell_type": "code",
      "source": [
        "np.matmul(ObservationMatrix2.T,PX)"
      ],
      "metadata": {
        "colab": {
          "base_uri": "https://localhost:8080/"
        },
        "id": "ciKgx_dhAjk5",
        "outputId": "4cd49d95-d672-4232-cd99-1e594fc9fd3d"
      },
      "execution_count": null,
      "outputs": [
        {
          "output_type": "execute_result",
          "data": {
            "text/plain": [
              "array([[0.136     ],\n",
              "       [0.53066667],\n",
              "       [0.33333333]])"
            ]
          },
          "metadata": {},
          "execution_count": 8
        }
      ]
    },
    {
      "cell_type": "code",
      "source": [
        "(PX.T*ObservationMatrix2)"
      ],
      "metadata": {
        "colab": {
          "base_uri": "https://localhost:8080/"
        },
        "id": "y2WLB2CUVAQJ",
        "outputId": "2e8a62b4-2b36-45a9-d32f-be3d2c467bac"
      },
      "execution_count": null,
      "outputs": [
        {
          "output_type": "execute_result",
          "data": {
            "text/plain": [
              "array([[0.        , 0.30126667, 0.03206667],\n",
              "       [0.10206667, 0.19706667, 0.0342    ],\n",
              "       [0.03393333, 0.03233333, 0.26706667]])"
            ]
          },
          "metadata": {},
          "execution_count": 9
        }
      ]
    },
    {
      "cell_type": "code",
      "source": [
        "def JointDistribution(Z,X):\n",
        "  #Z is a matrix and X is a vector\n",
        "  return (Z.T*X).T\n",
        "\n",
        "print(ObservationMatrix2)\n",
        "print(ObservationMatrix2.T)\n",
        "print(PX)\n",
        "print(ObservationMatrix2.T*PX)\n",
        "print(JointDistribution(ObservationMatrix2,PX))"
      ],
      "metadata": {
        "colab": {
          "base_uri": "https://localhost:8080/"
        },
        "id": "mqoMtz9qsc4j",
        "outputId": "7eed0f6e-3d5e-4e74-b447-dca6f758c669"
      },
      "execution_count": null,
      "outputs": [
        {
          "output_type": "stream",
          "name": "stdout",
          "text": [
            "[[0.     0.9038 0.0962]\n",
            " [0.3062 0.5912 0.1026]\n",
            " [0.1018 0.097  0.8012]]\n",
            "[[0.     0.3062 0.1018]\n",
            " [0.9038 0.5912 0.097 ]\n",
            " [0.0962 0.1026 0.8012]]\n",
            "[[0.33333333]\n",
            " [0.33333333]\n",
            " [0.33333333]]\n",
            "[[0.         0.10206667 0.03393333]\n",
            " [0.30126667 0.19706667 0.03233333]\n",
            " [0.03206667 0.0342     0.26706667]]\n",
            "[[0.         0.30126667 0.03206667]\n",
            " [0.10206667 0.19706667 0.0342    ]\n",
            " [0.03393333 0.03233333 0.26706667]]\n"
          ]
        }
      ]
    },
    {
      "cell_type": "code",
      "metadata": {
        "id": "xBxepE6ROmL2",
        "colab": {
          "base_uri": "https://localhost:8080/"
        },
        "outputId": "e7140d3d-3f77-4535-d79a-ec45b786f62b"
      },
      "source": [
        "def MutualInformation(ObservationMatrix, Prior):\n",
        "  #H(x)+H(Z)-H(X,Z)\n",
        "  HX= Entropy(Prior)\n",
        "  PXZ=JointDistribution(ObservationMatrix,Prior)\n",
        "  ObsProbForTheCurrentPrior = np.sum(PXZ,0)\n",
        "\n",
        "  HZ = Entropy(ObsProbForTheCurrentPrior)\n",
        "\n",
        "  #HXZ = Entropy(PXZ) - this should be it but this function works only with vectors.\n",
        "  HXZ = -(PXZ*np.log2(PXZ, out=np.zeros_like(PXZ), where = PXZ!=0)).sum()\n",
        "  return HX+HZ-HXZ\n",
        "\n",
        "\n",
        "\n",
        "print(MutualInformation(ObservationMatrix1,PX))\n",
        "\n"
      ],
      "execution_count": null,
      "outputs": [
        {
          "output_type": "stream",
          "name": "stdout",
          "text": [
            "[0.33495526]\n"
          ]
        }
      ]
    },
    {
      "cell_type": "code",
      "source": [
        "PX = np.array([1/3,1/3,1/3]).T\n",
        "for iteration in range(10):\n",
        "  MI1 = MutualInformation(ObservationMatrix1,PX)\n",
        "  MI2 = MutualInformation(ObservationMatrix2,PX)\n",
        "  if MI1>MI2:\n",
        "    PXZ=JointDistribution(ObservationMatrix1,PX)\n",
        "    PZ = np.sum(PXZ,0)\n",
        "    posteriro = ObservationMatrix1[:,M1.Measure()]*PX/PZ\n",
        "  else:\n",
        "    PXZ=JointDistribution(ObservationMatrix2,PX)\n",
        "    PZ = np.sum(PXZ,0)\n",
        "    posteriro = ObservationMatrix2[:,M2.Measure()]*PX/PZ"
      ],
      "metadata": {
        "id": "_QsNZJEfjayM"
      },
      "execution_count": null,
      "outputs": []
    },
    {
      "cell_type": "code",
      "source": [
        "OM = np.array([[0.45, 0.45, 0.1], [0.45, 0.45, 0.1], [0.1, 0.1, 0.8]])\n",
        "P = np.array([0.33, 0.33, 0.33]).T\n",
        "JD = JointDistribution(OM,P.T)\n",
        "JD"
      ],
      "metadata": {
        "colab": {
          "base_uri": "https://localhost:8080/"
        },
        "id": "j1tUA2hOZxSI",
        "outputId": "84a6669f-b8f5-4220-c670-178dfafb453e"
      },
      "execution_count": null,
      "outputs": [
        {
          "output_type": "execute_result",
          "data": {
            "text/plain": [
              "array([[0.1485, 0.1485, 0.033 ],\n",
              "       [0.1485, 0.1485, 0.033 ],\n",
              "       [0.033 , 0.033 , 0.264 ]])"
            ]
          },
          "metadata": {},
          "execution_count": 13
        }
      ]
    },
    {
      "cell_type": "code",
      "source": [
        "HX= Entropy(P)\n",
        "HX"
      ],
      "metadata": {
        "colab": {
          "base_uri": "https://localhost:8080/"
        },
        "id": "38N9Zol5isFA",
        "outputId": "f1eb4f93-0b3f-4893-bed7-de1c1be338cd"
      },
      "execution_count": null,
      "outputs": [
        {
          "output_type": "execute_result",
          "data": {
            "text/plain": [
              "1.5834674497121084"
            ]
          },
          "metadata": {},
          "execution_count": 14
        }
      ]
    },
    {
      "cell_type": "code",
      "source": [
        "np.sum(JD,0)"
      ],
      "metadata": {
        "colab": {
          "base_uri": "https://localhost:8080/"
        },
        "id": "Jppxjhbsi1BA",
        "outputId": "86e2d9c6-7035-4d98-e4ff-23338ee6034b"
      },
      "execution_count": null,
      "outputs": [
        {
          "output_type": "execute_result",
          "data": {
            "text/plain": [
              "array([0.33, 0.33, 0.33])"
            ]
          },
          "metadata": {},
          "execution_count": 15
        }
      ]
    },
    {
      "cell_type": "code",
      "source": [
        "HZ = Entropy(np.sum(JD,0))\n",
        "HZ"
      ],
      "metadata": {
        "colab": {
          "base_uri": "https://localhost:8080/"
        },
        "id": "USvhVNRpiyNR",
        "outputId": "25ae4d88-c4c9-47dc-f485-f0ac50ce2e92"
      },
      "execution_count": null,
      "outputs": [
        {
          "output_type": "execute_result",
          "data": {
            "text/plain": [
              "1.5834674497121086"
            ]
          },
          "metadata": {},
          "execution_count": 16
        }
      ]
    },
    {
      "cell_type": "code",
      "source": [
        "print(-(JD*np.log2(JD, out=np.zeros_like(JD), where = JD!=0)).sum())"
      ],
      "metadata": {
        "colab": {
          "base_uri": "https://localhost:8080/"
        },
        "id": "fSZ3zC_TjLs3",
        "outputId": "e582fa59-9c31-4056-a9b2-a420c67fa6e9"
      },
      "execution_count": null,
      "outputs": [
        {
          "output_type": "stream",
          "name": "stdout",
          "text": [
            "2.791240812793864\n"
          ]
        }
      ]
    },
    {
      "cell_type": "code",
      "source": [
        "MutualInformation(OM, P)"
      ],
      "metadata": {
        "colab": {
          "base_uri": "https://localhost:8080/"
        },
        "id": "7DI1eRvhaJXT",
        "outputId": "e3e2dc40-cf5e-4ac6-a4cb-f2a13d91580b"
      },
      "execution_count": null,
      "outputs": [
        {
          "output_type": "execute_result",
          "data": {
            "text/plain": [
              "0.3756940866303533"
            ]
          },
          "metadata": {},
          "execution_count": 18
        }
      ]
    }
  ]
}